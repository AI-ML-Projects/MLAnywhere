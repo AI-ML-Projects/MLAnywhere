{
 "cells": [
  {
   "cell_type": "code",
   "execution_count": 5,
   "metadata": {},
   "outputs": [],
   "source": [
    "#!/usr/bin/env python\n",
    "# coding: utf-8"
   ]
  },
  {
   "cell_type": "markdown",
   "metadata": {},
   "source": [
    "# Kubeflow Pipeline: Bolts Classifier \n",
    "\n",
    "\n",
    "In this notebook, we will show how to:\n",
    "- Define a Kubeflow Pipeline using the Pipelines Python SDK\n",
    "- Compile the pipeline package from the pipeline definition"
   ]
  },
  {
   "cell_type": "markdown",
   "metadata": {},
   "source": [
    "## Setup"
   ]
  },
  {
   "cell_type": "code",
   "execution_count": 6,
   "metadata": {},
   "outputs": [],
   "source": [
    "import kfp\n",
    "import kfp.dsl as dsl\n",
    "import kfp.gcp as gcp\n",
    "from kubernetes import client as k8s_client"
   ]
  },
  {
   "cell_type": "markdown",
   "metadata": {},
   "source": [
    "## Define Pipeline components"
   ]
  },
  {
   "cell_type": "code",
   "execution_count": 7,
   "metadata": {},
   "outputs": [],
   "source": [
    "def bolts_download_op(step_name='download'):\n",
    "    return dsl.ContainerOp(\n",
    "        name = step_name,\n",
    "        image = 'swiftdiaries/ml-pipeline-data-download:0.2',\n",
    "        arguments = []\n",
    "    )\n",
    "\n",
    "def bolts_preprocess_op(image_dir, tfhub_module, bottleneck_dir, step_name='pre-process'):\n",
    "    return dsl.ContainerOp(\n",
    "        name = step_name,\n",
    "        image = 'swiftdiaries/ml-pipelines-bolts-preprocess:0.1',\n",
    "        arguments = [\n",
    "            '--image_dir', image_dir,\n",
    "            '--tfhub_module', tfhub_module,\n",
    "            '--how_many_training_steps', \"0\",\n",
    "            '--bottleneck_dir', bottleneck_dir,\n",
    "        ]\n",
    "    )\n",
    "\n",
    "def bolts_train_op(image_dir, tfhub_module, model_dir, tensorboard_dir, bottleneck_dir, eval_store_file, number_of_steps, learning_rate,  step_name='train'):\n",
    "    return dsl.ContainerOp(\n",
    "        name = step_name,\n",
    "        image = 'swiftdiaries/ml-pipeline-bolts-train:0.2',\n",
    "        arguments = [\n",
    "            '--image_dir', image_dir,\n",
    "            '--tfhub_module', tfhub_module,\n",
    "            '--saved_model_dir', model_dir,\n",
    "            '--summaries_dir', tensorboard_dir,\n",
    "            '--how_many_training_steps', number_of_steps,\n",
    "            '--learning_rate', learning_rate,\n",
    "            '--bottleneck_dir', bottleneck_dir,\n",
    "            '--eval_output_dir', eval_store_file,\n",
    "            '--print_misclassified_test_images', 'True',\n",
    "        ]\n",
    "    )\n",
    "\n",
    "def bolts_tensorboard_op(tensorboard_dir, step_name='tensorboard'):\n",
    "    return dsl.ContainerOp(\n",
    "        name = step_name,\n",
    "        image = 'swiftdiaries/ml-pipelines-bolts-tensorboard:0.1',\n",
    "        arguments = [\n",
    "            '--logdir', tensorboard_dir,\n",
    "        ]\n",
    "    )\n",
    "\n",
    "def bolts_predict_op(model_path, label_path, image_path, input_layer='Placeholder', output_layer='final_result', step_name='predict'):\n",
    "    return dsl.ContainerOp(\n",
    "        name = step_name,\n",
    "        image = 'swiftdiaries/ml-pipelines-bolts-predict:0.13',\n",
    "        arguments = [\n",
    "            '--graph', model_path,\n",
    "            '--labels', label_path,\n",
    "            '--image', image_path,\n",
    "            '--input_layer', input_layer,\n",
    "            '--output_layer', output_layer,\n",
    "        ]\n",
    "    )\n",
    "\n",
    "pvc_name = 'nfs' # pvc name should be same as one in pipeline definition\n",
    "\n",
    "def bolts_deploy_onprem_op(model_dir, step_name='deploy-on-prem'):\n",
    "    return dsl.ContainerOp(\n",
    "        name = step_name,\n",
    "        image = 'swiftdiaries/ml-pipeline-deploy:0.2',\n",
    "        arguments = [\n",
    "            '--platform', 'onprem', # cloud or onprem \n",
    "            '--model-path', model_dir,\n",
    "            '--server-name', '{{workflow.name}}',\n",
    "            '--pvc-name', pvc_name,\n",
    "            '--namespace', 'kubeflow'\n",
    "        ]\n",
    "    )\n",
    "\n",
    "def bolts_cm_op(prediction_path, step_name='confusion_matrix'):\n",
    "    return dsl.ContainerOp(\n",
    "        name = step_name,\n",
    "        image = 'swiftdiaries/ml-pipelines-cm:0.4',\n",
    "        arguments = [\n",
    "            '--eval_output_csv', prediction_path,\n",
    "        ]\n",
    "    )"
   ]
  },
  {
   "cell_type": "markdown",
   "metadata": {},
   "source": [
    "## Assemble the pipeline"
   ]
  },
  {
   "cell_type": "code",
   "execution_count": 8,
   "metadata": {},
   "outputs": [],
   "source": [
    "@dsl.pipeline(\n",
    "    name='Bolts Trainer',\n",
    "    description='A pipeline to train and evaluate a classifer for the bolts image dataset'\n",
    ")\n",
    "def bolts_classifier_pipeline(\n",
    "    image_dir='/mnt/workflow/small_bolt_images/',\n",
    "    tfhub_module='https://tfhub.dev/google/imagenet/mobilenet_v1_100_224/quantops/feature_vector/1',\n",
    "    tensorboard_dir='/mnt/workflow/tensorboard/',\n",
    "    model_dir='/mnt/models/retrain/trained_models/cleu2019/',\n",
    "    bottleneck_dir='/mnt/workflow/bottleneck/',\n",
    "    eval_store_file='/mnt/workflow/eval/predictions_eval.csv',\n",
    "    learning_rate='0.01',\n",
    "    number_of_steps='2000',\n",
    "    model_path='/ml/retrain/trained_models/mobilenet/1/saved_models.pb',\n",
    "    labels_path='/ml/retrain/trained_models/mobilenet/1/output_labels.txt',\n",
    "    image_path='/ml/retrain/201721895618_1_9.jpg',\n",
    "    ):\n",
    "\n",
    "    # k8s volume resources for workflow\n",
    "    nfs_pvc = k8s_client.V1PersistentVolumeClaimVolumeSource(claim_name=pvc_name)  \n",
    "    # claim name should be same as one in deploy step\n",
    "    nfs_volume = k8s_client.V1Volume(name='argo-workflow', persistent_volume_claim=nfs_pvc)\n",
    "    nfs_volume_mount = k8s_client.V1VolumeMount(mount_path='/mnt/', name='argo-workflow')\n",
    "\n",
    "    # Define individual steps and attach relevant volumes\n",
    "    download = bolts_download_op()\n",
    "    download.add_volume(nfs_volume)\n",
    "    download.add_volume_mount(nfs_volume_mount)\n",
    "\n",
    "    preprocess = bolts_preprocess_op(image_dir, tfhub_module, bottleneck_dir)\n",
    "    preprocess.add_volume(nfs_volume)\n",
    "    preprocess.add_volume_mount(nfs_volume_mount)\n",
    "\n",
    "    train = bolts_train_op(image_dir, tfhub_module, model_dir, tensorboard_dir, bottleneck_dir,         eval_store_file, number_of_steps, learning_rate)\n",
    "    train.add_volume(nfs_volume)\n",
    "    train.add_volume_mount(nfs_volume_mount)\n",
    "\n",
    "    tensorboard = bolts_tensorboard_op(tensorboard_dir)\n",
    "    tensorboard.add_volume(nfs_volume)\n",
    "    tensorboard.add_volume_mount(nfs_volume_mount)\n",
    "\n",
    "    predict = bolts_predict_op(model_path, labels_path, image_path)\n",
    "    predict.add_volume(nfs_volume)\n",
    "    predict.add_volume_mount(nfs_volume_mount)\n",
    "\n",
    "    \n",
    "    deploy_onprem = bolts_deploy_onprem_op(model_dir)\n",
    "    deploy_onprem.add_volume(nfs_volume)\n",
    "    deploy_onprem.add_volume_mount(nfs_volume_mount)\n",
    "    #deploy_onprem.set_image_pull_policy('Always')\n",
    "\n",
    "    cm = bolts_cm_op(eval_store_file)\n",
    "    cm.add_volume(nfs_volume)\n",
    "    cm.add_volume_mount(nfs_volume_mount)\n",
    "\n",
    "    # Define the workflow DAG\n",
    "    preprocess.after(download)\n",
    "    train.after(preprocess)\n",
    "    deploy_onprem.after(train)\n",
    "    tensorboard.after(train)\n",
    "    predict.after(train)\n",
    "    cm.after(predict)"
   ]
  },
  {
   "cell_type": "markdown",
   "metadata": {},
   "source": [
    "## Compile the Pipeline"
   ]
  },
  {
   "cell_type": "code",
   "execution_count": 9,
   "metadata": {},
   "outputs": [],
   "source": [
    "if __name__ == \"__main__\":\n",
    "    import kfp.compiler as compiler\n",
    "    compiler.Compiler().compile(bolts_classifier_pipeline, 'bolts_hybrid.tar.gz')"
   ]
  },
  {
   "cell_type": "markdown",
   "metadata": {},
   "source": [
    "## Connect to Kubeflow client"
   ]
  },
  {
   "cell_type": "code",
   "execution_count": 10,
   "metadata": {},
   "outputs": [],
   "source": [
    "client = kfp.Client()\n",
    "import datetime\n",
    "iteration = datetime.datetime.now().strftime('%Y-%m-%d-%H-%M-%S')"
   ]
  },
  {
   "cell_type": "markdown",
   "metadata": {},
   "source": [
    "## Create an Experiment"
   ]
  },
  {
   "cell_type": "code",
   "execution_count": 12,
   "metadata": {},
   "outputs": [
    {
     "data": {
      "text/html": [
       "Experiment link <a href=\"/pipeline/#/experiments/details/b27eb554-aad9-4560-a6ac-b9d09fa57537\" target=\"_blank\" >here</a>"
      ],
      "text/plain": [
       "<IPython.core.display.HTML object>"
      ]
     },
     "metadata": {},
     "output_type": "display_data"
    }
   ],
   "source": [
    "try: \n",
    "    client.get_experiment(experiment_name='Bolts Classifier - MLA Demo')\n",
    "except:\n",
    "    bolts_experiment = client.create_experiment(name='Bolts Classifier - MLA Demo')"
   ]
  },
  {
   "cell_type": "markdown",
   "metadata": {},
   "source": [
    "## Run the Pipeline"
   ]
  },
  {
   "cell_type": "code",
   "execution_count": 14,
   "metadata": {},
   "outputs": [
    {
     "name": "stderr",
     "output_type": "stream",
     "text": [
      "/opt/conda/lib/python3.6/site-packages/kfp/_client.py:157: YAMLLoadWarning: calling yaml.load() without Loader=... is deprecated, as the default Loader is unsafe. Please read https://msg.pyyaml.org/load for full details.\n",
      "  return yaml.load(f)\n"
     ]
    },
    {
     "data": {
      "text/html": [
       "Run link <a href=\"/pipeline/#/runs/details/62258bdf-aba3-11e9-b400-005056aefa3b\" target=\"_blank\" >here</a>"
      ],
      "text/plain": [
       "<IPython.core.display.HTML object>"
      ]
     },
     "metadata": {},
     "output_type": "display_data"
    }
   ],
   "source": [
    "run = client.run_pipeline(client.get_experiment(experiment_name='Bolts Classifier - MLA Demo').id, \n",
    "                          'bolts_classifier_pipeline', 'bolts_hybrid.tar.gz', \n",
    "                          params={\n",
    "    'image_dir': '/mnt/workflow/small_bolt_images/',\n",
    "    'tfhub_module': 'https://tfhub.dev/google/imagenet/mobilenet_v1_100_224/quantops/feature_vector/1',\n",
    "    'tensorboard_dir': '/mnt/workflow/tensorboard/',\n",
    "    # Update model_dir to a unique path each time you execute this step                        \n",
    "    'model_dir': '/mnt/models/retrain/trained_models/cleu2019/10/',\n",
    "    'bottleneck_dir': '/mnt/workflow/bottleneck/',\n",
    "    'eval_store_file': '/mnt/workflow/eval/predictions_eval.csv',\n",
    "    'learning_rate': '0.01',\n",
    "    'number_of_steps': '2000',\n",
    "    'model_path': '/ml/retrain/trained_models/mobilenet/1/saved_models.pb',\n",
    "    'labels_path': '/ml/retrain/trained_models/mobilenet/1/output_labels.txt',\n",
    "    'image_path': 'retrain/201721895618_1_9.jpg'})"
   ]
  }
 ],
 "metadata": {
  "kernelspec": {
   "display_name": "Python 3",
   "language": "python",
   "name": "python3"
  },
  "language_info": {
   "codemirror_mode": {
    "name": "ipython",
    "version": 3
   },
   "file_extension": ".py",
   "mimetype": "text/x-python",
   "name": "python",
   "nbconvert_exporter": "python",
   "pygments_lexer": "ipython3",
   "version": "3.6.7"
  }
 },
 "nbformat": 4,
 "nbformat_minor": 2
}
