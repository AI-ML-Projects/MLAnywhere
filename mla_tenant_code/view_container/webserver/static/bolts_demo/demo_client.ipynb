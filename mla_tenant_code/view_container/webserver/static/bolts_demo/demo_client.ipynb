{
 "cells": [
  {
   "cell_type": "markdown",
   "metadata": {},
   "source": [
    "# Bolt classifier client\n"
   ]
  },
  {
   "cell_type": "code",
   "execution_count": null,
   "metadata": {},
   "outputs": [],
   "source": [
    "import operator\n",
    "import os\n",
    "import random\n",
    "import subprocess\n",
    "\n",
    "import numpy\n",
    "from grpc.beta import implementations\n",
    "\n",
    "import tensorflow as tf\n",
    "from tensorflow_serving.apis import predict_pb2\n",
    "from tensorflow_serving.apis import prediction_service_pb2_grpc\n",
    "\n",
    "from PIL import Image\n",
    "from matplotlib.pyplot import imshow"
   ]
  },
  {
   "cell_type": "code",
   "execution_count": null,
   "metadata": {},
   "outputs": [],
   "source": [
    "def load_labels(label_file):\n",
    "    label = []\n",
    "    proto_as_ascii_lines = tf.gfile.GFile(label_file).readlines()\n",
    "    for l in proto_as_ascii_lines:\n",
    "        label.append(l.rstrip())\n",
    "    return label\n",
    "\n",
    "def classify_bolt(service_host, service_port, file_path):\n",
    "    labels = load_labels(\"labels.txt\")\n",
    "\n",
    "    raw_image = Image.open(file_path)\n",
    "    raw_image = raw_image.resize((224,224), Image.ANTIALIAS)\n",
    "    image = numpy.array(raw_image).astype(numpy.float32)/255\n",
    "\n",
    "    channel = implementations.insecure_channel(service_host, service_port)\n",
    "    stub = prediction_service_pb2_grpc.PredictionServiceStub(channel._channel)\n",
    "\n",
    "    request = predict_pb2.PredictRequest()\n",
    "    request.model_spec.name = \"model-server-workflow-v1\"\n",
    "    request.model_spec.signature_name = \"serving_default\"\n",
    "    request.inputs['image'].CopyFrom(\n",
    "            tf.make_tensor_proto(image, shape=[1, 224, 224, 3]))\n",
    "\n",
    "    result = stub.Predict(request, 10.0)  # 10 secs timeout\n",
    "\n",
    "    plist = result.outputs[\"prediction\"].float_val\n",
    "    index, value = max(enumerate(plist), key=operator.itemgetter(1))\n",
    "    print(\"type: {}, score: {}\".format(labels[index], value))\n"
   ]
  },
  {
   "cell_type": "markdown",
   "metadata": {},
   "source": [
    "## Model service endpoint"
   ]
  },
  {
   "cell_type": "code",
   "execution_count": null,
   "metadata": {},
   "outputs": [],
   "source": [
    "svc = subprocess.check_output([\"bash\",\"-c\", \"kubectl get svc -n kubeflow | grep v1-bolts | tail -1 | awk '{print $1}'\"])\n",
    "service_host = \"{}.kubeflow.svc.cluster.local\".format(svc.decode('UTF-8').rstrip())\n",
    "service_port = 9000\n",
    "print(\"{}:{}\".format(service_host, service_port))"
   ]
  },
  {
   "cell_type": "markdown",
   "metadata": {},
   "source": [
    "## Test case 1"
   ]
  },
  {
   "cell_type": "code",
   "execution_count": null,
   "metadata": {
    "scrolled": false
   },
   "outputs": [],
   "source": [
    "%matplotlib inline\n",
    "test_image_1 = \"bxm/201721882325_125_9.jpg\"\n",
    "imshow(numpy.asarray(Image.open(test_image_1, 'r')))\n",
    "classify_bolt(service_host,service_port,test_image_1)"
   ]
  },
  {
   "cell_type": "markdown",
   "metadata": {},
   "source": [
    "## Test case 2"
   ]
  },
  {
   "cell_type": "code",
   "execution_count": null,
   "metadata": {},
   "outputs": [],
   "source": [
    "%matplotlib inline\n",
    "test_image_2 = \"3pax/201721892859_115_9.jpg\"\n",
    "imshow(numpy.asarray(Image.open(test_image_2, 'r')))\n",
    "classify_bolt(service_host,service_port,test_image_2)"
   ]
  }
 ],
 "metadata": {
  "kernelspec": {
   "display_name": "Python 3",
   "language": "python",
   "name": "python3"
  },
  "language_info": {
   "codemirror_mode": {
    "name": "ipython",
    "version": 3
   },
   "file_extension": ".py",
   "mimetype": "text/x-python",
   "name": "python",
   "nbconvert_exporter": "python",
   "pygments_lexer": "ipython3",
   "version": "3.6.8"
  }
 },
 "nbformat": 4,
 "nbformat_minor": 2
}
